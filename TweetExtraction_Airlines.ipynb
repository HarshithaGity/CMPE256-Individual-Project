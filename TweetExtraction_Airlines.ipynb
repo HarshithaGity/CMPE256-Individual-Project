{
 "cells": [
  {
   "cell_type": "markdown",
   "metadata": {},
   "source": [
    "# Getting the tweets with respect to  Airlines from the Twitter "
   ]
  },
  {
   "cell_type": "code",
   "execution_count": 2,
   "metadata": {},
   "outputs": [],
   "source": [
    "import tweepy\n",
    "import csv\n",
    "import json\n",
    "import pandas as pd"
   ]
  },
  {
   "cell_type": "code",
   "execution_count": 3,
   "metadata": {},
   "outputs": [],
   "source": [
    "Access_token = \"218099701-8V5hnDctBxVfnLiDJ7cfEgMkV7zRlKypPEqF5rqO\"\n",
    "Access_token_secret = \"b5WTg5n9Tnv9YYIomWG1mZLe44ivXrI8nGYDPiWOTyFXX\"\n",
    "API_secret_key =\"KdOlLZbuvVkTmHa4XxWuIjjR4Hc33ljwB3VkRdkh2JvLM64y6f\"\n",
    "API_key=\"ZW6Om6esTswnnI631BVtR2dFl\""
   ]
  },
  {
   "cell_type": "code",
   "execution_count": 4,
   "metadata": {},
   "outputs": [],
   "source": [
    "auth = tweepy.OAuthHandler(API_key, API_secret_key)\n",
    "auth.set_access_token(Access_token, Access_token_secret)\n",
    "api = tweepy.API(auth)"
   ]
  },
  {
   "cell_type": "code",
   "execution_count": 5,
   "metadata": {},
   "outputs": [
    {
     "name": "stdout",
     "output_type": "stream",
     "text": [
      "2019-07-19 22:47:14.002192\n",
      "time: 2019-06-19\n"
     ]
    }
   ],
   "source": [
    "import datetime as dt\n",
    "from dateutil.relativedelta import relativedelta\n",
    "print(dt.datetime.now())\n",
    "time = dt.datetime.now() - relativedelta(days=30)\n",
    "time = time.strftime(\"%Y-%m-%d\")\n",
    "print(\"time:\", time)"
   ]
  },
  {
   "cell_type": "code",
   "execution_count": 6,
   "metadata": {},
   "outputs": [],
   "source": [
    "search_words = [\"@SouthwestAir\",\"@VirginAmerica\", \"@USAirways\",\"@united\" , \"@Delta\", \"@AmericanAir\",\"@JetBlue\",\n",
    "                \"@AlaskaAir\", \"@HawaiianAir\",\"@SpiritAirlines\",\"@SkyWestAirlines\"]\n",
    "type(search_words)\n",
    "ScrapedData = \"/Users/Harshitha/Desktop/LargeScaleAnly/Data/ScrapedData.csv\"\n",
    "date_since = \"2018-11-16\""
   ]
  },
  {
   "cell_type": "code",
   "execution_count": 7,
   "metadata": {},
   "outputs": [],
   "source": [
    "# next time exectuing replace date_since with the time variable and check \n",
    "def generateTwitterData(Count,search_words):\n",
    "    index =0 \n",
    "    df = pd.DataFrame(columns=['User', 'Airlines','Createdtime', 'Text'])\n",
    "    for word in search_words:\n",
    "        for tweet in tweepy.Cursor(api.search,q=word,since= date_since, lang = \"en\",count=100).items(Count):\n",
    "            if 'created_at' not in tweet._json.keys():\n",
    "                continue\n",
    "            created =  tweet.created_at\n",
    "            \n",
    "            if 'user' not in tweet._json.keys():\n",
    "                continue\n",
    "            user = tweet.user.screen_name\n",
    "            if 'text' not in tweet._json.keys():\n",
    "                continue\n",
    "            text = str(tweet.text.encode('utf-8'))\n",
    "            df.loc[index] = [user, word, created, text]\n",
    "            index= index +1\n",
    "    print('done with generating data')\n",
    "    return df"
   ]
  },
  {
   "cell_type": "code",
   "execution_count": 8,
   "metadata": {},
   "outputs": [
    {
     "name": "stdout",
     "output_type": "stream",
     "text": [
      "Number of tweets to be extracted- 1000\n"
     ]
    }
   ],
   "source": [
    "TweetCount= int(input('Number of tweets to be extracted- '))"
   ]
  },
  {
   "cell_type": "code",
   "execution_count": 9,
   "metadata": {},
   "outputs": [
    {
     "name": "stdout",
     "output_type": "stream",
     "text": [
      "done with generating data\n"
     ]
    }
   ],
   "source": [
    "df = generateTwitterData(TweetCount,search_words)"
   ]
  },
  {
   "cell_type": "code",
   "execution_count": 10,
   "metadata": {},
   "outputs": [
    {
     "data": {
      "text/html": [
       "<div>\n",
       "<style scoped>\n",
       "    .dataframe tbody tr th:only-of-type {\n",
       "        vertical-align: middle;\n",
       "    }\n",
       "\n",
       "    .dataframe tbody tr th {\n",
       "        vertical-align: top;\n",
       "    }\n",
       "\n",
       "    .dataframe thead th {\n",
       "        text-align: right;\n",
       "    }\n",
       "</style>\n",
       "<table border=\"1\" class=\"dataframe\">\n",
       "  <thead>\n",
       "    <tr style=\"text-align: right;\">\n",
       "      <th></th>\n",
       "      <th>User</th>\n",
       "      <th>Airlines</th>\n",
       "      <th>Createdtime</th>\n",
       "      <th>Text</th>\n",
       "    </tr>\n",
       "  </thead>\n",
       "  <tbody>\n",
       "    <tr>\n",
       "      <th>0</th>\n",
       "      <td>brendanqf789</td>\n",
       "      <td>@SouthwestAir</td>\n",
       "      <td>2019-07-20 05:45:19</td>\n",
       "      <td>b'RT @AeroimagesChris: 7545 42589 N7206U 737-7...</td>\n",
       "    </tr>\n",
       "    <tr>\n",
       "      <th>1</th>\n",
       "      <td>nanceeyy23</td>\n",
       "      <td>@SouthwestAir</td>\n",
       "      <td>2019-07-20 05:44:34</td>\n",
       "      <td>b'@karinaah_09 @SouthwestAir No! But I Wana kn...</td>\n",
       "    </tr>\n",
       "    <tr>\n",
       "      <th>2</th>\n",
       "      <td>ashlley</td>\n",
       "      <td>@SouthwestAir</td>\n",
       "      <td>2019-07-20 05:43:02</td>\n",
       "      <td>b'As much as I love @SouthwestAir, dealing wit...</td>\n",
       "    </tr>\n",
       "    <tr>\n",
       "      <th>3</th>\n",
       "      <td>Flightboy20</td>\n",
       "      <td>@SouthwestAir</td>\n",
       "      <td>2019-07-20 05:42:08</td>\n",
       "      <td>b'@SouthwestAir We did!  I hope you find it.  ...</td>\n",
       "    </tr>\n",
       "    <tr>\n",
       "      <th>4</th>\n",
       "      <td>Browniexp</td>\n",
       "      <td>@SouthwestAir</td>\n",
       "      <td>2019-07-20 05:36:31</td>\n",
       "      <td>b'@SouthwestAir @NintendoAmerica How about one...</td>\n",
       "    </tr>\n",
       "  </tbody>\n",
       "</table>\n",
       "</div>"
      ],
      "text/plain": [
       "           User       Airlines         Createdtime  \\\n",
       "0  brendanqf789  @SouthwestAir 2019-07-20 05:45:19   \n",
       "1    nanceeyy23  @SouthwestAir 2019-07-20 05:44:34   \n",
       "2       ashlley  @SouthwestAir 2019-07-20 05:43:02   \n",
       "3   Flightboy20  @SouthwestAir 2019-07-20 05:42:08   \n",
       "4     Browniexp  @SouthwestAir 2019-07-20 05:36:31   \n",
       "\n",
       "                                                Text  \n",
       "0  b'RT @AeroimagesChris: 7545 42589 N7206U 737-7...  \n",
       "1  b'@karinaah_09 @SouthwestAir No! But I Wana kn...  \n",
       "2  b'As much as I love @SouthwestAir, dealing wit...  \n",
       "3  b'@SouthwestAir We did!  I hope you find it.  ...  \n",
       "4  b'@SouthwestAir @NintendoAmerica How about one...  "
      ]
     },
     "execution_count": 10,
     "metadata": {},
     "output_type": "execute_result"
    }
   ],
   "source": [
    "df.head()"
   ]
  },
  {
   "cell_type": "code",
   "execution_count": 11,
   "metadata": {},
   "outputs": [],
   "source": [
    "df.to_csv(ScrapedData, mode='a',index=False)"
   ]
  },
  {
   "cell_type": "code",
   "execution_count": null,
   "metadata": {},
   "outputs": [],
   "source": []
  }
 ],
 "metadata": {
  "kernelspec": {
   "display_name": "Python 3",
   "language": "python",
   "name": "python3"
  },
  "language_info": {
   "codemirror_mode": {
    "name": "ipython",
    "version": 3
   },
   "file_extension": ".py",
   "mimetype": "text/x-python",
   "name": "python",
   "nbconvert_exporter": "python",
   "pygments_lexer": "ipython3",
   "version": "3.7.1"
  }
 },
 "nbformat": 4,
 "nbformat_minor": 2
}
